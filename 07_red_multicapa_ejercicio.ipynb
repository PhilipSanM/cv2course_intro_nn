{
  "cells": [
    {
      "cell_type": "markdown",
      "metadata": {},
      "source": [
        "* **Sánchez Martínez Felipe** 6BM1"
      ]
    },
    {
      "attachments": {},
      "cell_type": "markdown",
      "metadata": {},
      "source": [
        "# Red neuronal multicapa\n",
        "\n",
        "Una red neuronal multicapa tiene capas ocultas entre la entrada y la salida. A este tipo de red también se le conoce como perceptrón multicapa (MLP por sus siglas en inglés de multilayer perceptron)\n",
        "\n",
        "En este ejercicio implementaremos una red neuronal multicapa usando únicamente numpy.\n",
        "\n",
        "INSTRUCCIONES: Completa el código faltante.\n",
        "\n",
        "@juan1rving"
      ]
    },
    {
      "cell_type": "code",
      "execution_count": 5,
      "metadata": {},
      "outputs": [],
      "source": [
        "# Importamos paquetes\n",
        "import numpy as np\n",
        "\n",
        "np.random.seed(42)"
      ]
    },
    {
      "cell_type": "code",
      "execution_count": 6,
      "metadata": {},
      "outputs": [],
      "source": [
        "# Funciones necesarias\n",
        "def sigmoid(x):\n",
        "    \"\"\"\n",
        "    Función sigmoide\n",
        "    \"\"\"\n",
        "    return 1/(1+np.exp(-x))"
      ]
    },
    {
      "attachments": {},
      "cell_type": "markdown",
      "metadata": {},
      "source": [
        "## Definamos la arquitectura de la red\n",
        "\n",
        "<img src=\"files/test1.png\">"
      ]
    },
    {
      "cell_type": "code",
      "execution_count": 7,
      "metadata": {},
      "outputs": [],
      "source": [
        "# TODO: Especifica el tamaño de las capas de acuerdo al diagrama.\n",
        "N_input = 4\n",
        "N_hidden = 3\n",
        "N_out = 2\n"
      ]
    },
    {
      "attachments": {},
      "cell_type": "markdown",
      "metadata": {},
      "source": [
        "## Definir los pesos\n",
        "\n",
        "Recordemos que los pesos ahora los representamos con matrices y utilizaremos el producton de la siguiente forma:\n",
        "\n",
        "$$\n",
        "h = XW\n",
        "$$\n",
        "\n",
        "tal que las entradas son\n",
        "\n",
        "$$ X = \\begin{bmatrix} x_1 & x_2 & x_3 \\end{bmatrix} $$\n",
        "\n",
        "y\n",
        "\n",
        "$$W = \\begin{bmatrix}\n",
        "w_{1,1} & w_{1,2}\n",
        " \\\\\n",
        "w_{2,1} & w_{2,2}\n",
        " \\\\\n",
        "w_{3,1} & w_{3,2}\n",
        " \\\\\n",
        "\\end{bmatrix}$$\n",
        "\n",
        "recuerda que los renglones se relacionan con las entradas y las columnas con los nodos intermedios. \n",
        "\n",
        "Como herramienta usaremos la función normal. Verifica la documentación oficial de la función.\n",
        "\n",
        "> numpy.random.normal(loc=0.0, scale=1.0, size=None)\n",
        "\n",
        "TODO: construye a contrinuación matrices con valores aleatorios para la matriz de pesos entre la entrada y la oculta y para la oculta y la salida."
      ]
    },
    {
      "cell_type": "code",
      "execution_count": 20,
      "metadata": {},
      "outputs": [],
      "source": [
        "#TODO: Completa el código faltante\n",
        "\n",
        "# Especifica la media y desviación estandar a usar.\n",
        "mean = 0.0\n",
        "stdev = 1.0\n",
        "\n",
        "# crea las matrices de forma dinámica a partir de los valores que se pone en los tamaños de la red\n",
        "W_input_to_hidden = np.random.normal(loc=mean, scale=stdev, size=(N_input, N_hidden))\n",
        "\n",
        "W_hidden_out = np.random.normal(loc=mean, scale=stdev, size=(N_hidden, N_out))\n",
        "\n",
        "X = np.random.randn(4)\n"
      ]
    },
    {
      "attachments": {},
      "cell_type": "markdown",
      "metadata": {},
      "source": [
        "## Calcular la salida\n",
        "\n",
        "Recordemos de la lección que\n",
        "\n",
        "$$ h = X W $$\n",
        "\n",
        "$$ y = f(H) $$"
      ]
    },
    {
      "cell_type": "code",
      "execution_count": 18,
      "metadata": {},
      "outputs": [
        {
          "name": "stdout",
          "output_type": "stream",
          "text": [
            "salida de la capa oculta:  [0.42976481 0.05444388 0.98303061]\n",
            "salida de la red:  [0.00404038 0.95742495]\n"
          ]
        }
      ],
      "source": [
        "# TODO: Producto punto\n",
        "input_to_hidden = np.dot(X, W_input_to_hidden)\n",
        "out_of_hidden = sigmoid(input_to_hidden)\n",
        "\n",
        "\n",
        "# TODO: Producto punto\n",
        "input_to_out = np.dot(input_to_hidden, W_hidden_out)\n",
        "out_of_network = sigmoid(input_to_out)\n",
        "\n",
        "print(\"salida de la red: \", Y_circunfleja)\n"
      ]
    },
    {
      "attachments": {},
      "cell_type": "markdown",
      "metadata": {},
      "source": [
        "Como resultado debes de ver la salida de la red como un vector de dos elementos.\n",
        "\n",
        "Agrega tus conclusiones:\n"
      ]
    },
    {
      "cell_type": "markdown",
      "metadata": {},
      "source": [
        "## Conclusion:\n",
        "\n",
        "Haciendo la unión de varias neuronas simples nos da como resultado una red multicapa, la cual tendrá el mismo comportamiento que una neurona simple en cuanto a la forma en que obtiene la salida, pero ahora usando matrices para el manejo de varios pesos. Esto nos lleva a una red de neuronas que pueden predecir múltiples salidas con múltiples entradas de por medio, aumentando su complejidad de procesamiento y proporcionando una salida más compleja de obtener.\n",
        "\n",
        "El hecho de tener capas de por medio nos ayuda a mejorar el valor de salida de nuestra red, contribuyendo a la convergencia de problemas y a poder solucionar problemas más complejos con la unión de varias capas intermedias, esto igual aumenta su copmplejidad temporal y espacial, pero conlleva a mejores resultados dependiendo del uso adecuado del número de capas ocultas."
      ]
    },
    {
      "cell_type": "code",
      "execution_count": null,
      "metadata": {},
      "outputs": [],
      "source": []
    }
  ],
  "metadata": {
    "kernelspec": {
      "display_name": "Python 3 (ipykernel)",
      "language": "python",
      "name": "python3"
    },
    "language_info": {
      "codemirror_mode": {
        "name": "ipython",
        "version": 3
      },
      "file_extension": ".py",
      "mimetype": "text/x-python",
      "name": "python",
      "nbconvert_exporter": "python",
      "pygments_lexer": "ipython3",
      "version": "3.9.18"
    },
    "vscode": {
      "interpreter": {
        "hash": "cbad788490f55b163920bee5e9d5e0cba00db5905dc94f4bdbe0011e55bf465f"
      }
    },
    "widgets": {
      "state": {},
      "version": "1.1.2"
    }
  },
  "nbformat": 4,
  "nbformat_minor": 4
}
