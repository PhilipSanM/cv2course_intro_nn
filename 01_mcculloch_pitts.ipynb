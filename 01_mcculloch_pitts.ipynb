{
 "cells": [
  {
   "cell_type": "markdown",
   "metadata": {},
   "source": [
    "\n",
    "* **Felipe Sánchez Martínez** 6BM1\n"
   ]
  },
  {
   "cell_type": "markdown",
   "metadata": {},
   "source": [
    "# Neurona McCulloch y Pitts\n",
    "\n",
    "El modelo de McCulloch y Pitts, concebido por Warren McCulloch, neurocientífico, y Walter Pitts, lógico matemático, en 1943 [1], representa uno de los fundamentos teóricos de las redes neuronales y la inteligencia artificial. Este modelo es una simplificación abstracta de las neuronas biológicas, propuesta para entender cómo podrían las neuronas del cerebro generar patrones complejos de pensamiento a partir de operaciones simples.\n",
    "\n",
    "\n",
    "\n",
    "[1] McCulloch, W. S., & Pitts, W. (1990). A logical calculus of the ideas immanent in nervous activity. Bulletin of mathematical biology, 52, 99-115."
   ]
  },
  {
   "cell_type": "markdown",
   "metadata": {},
   "source": [
    "Para formalizar el modelo de McCulloch y Pitts, representaremos una neurona con la letra $C$ y definiremos que la entrada de dicha neurona, denominada $input$, está determinada por una tupla $(E,I)$, donde $E$ es el conjunto de señales excitatorias e $I$ es el conjunto de señales inhibitorias. Asimismo, estableceremos como restricciones que tanto la entrada como la salida sean variables binarias, es decir, $input, output \\in {0,1}$. Adicionalmente, definiremos un umbral $u$ que la neurona utiliza para determinar los casos de excitación..\n",
    "\n",
    "Dado lo anterior la salida de $C$ se calcula usando las siguientes reglas:\n",
    "\n",
    "1. En caso de que alguna de las entradas inhibitorias esté activa la neurona no se exita, es decir,\n",
    "    \n",
    "    $C(E,I) = 0$ & \\texttt{if} & $\\exists \\iota_i=1; \\iota_i \\in I$\\\\\n",
    "\n",
    "2. La neurona se exita si la integral de sus entradas exitatorias es igual o superior al umbral, es decir,\n",
    "    \n",
    "    $C(E,I) = 1$ & \\texttt{if} & $\\sum \\iota_i \\geq u; \\iota_i \\in I$\\\\\n",
    "    \n",
    "\n",
    "3. En cualquier otro caso la neurona permanece sin exitación."
   ]
  },
  {
   "cell_type": "code",
   "execution_count": 1,
   "metadata": {},
   "outputs": [],
   "source": [
    "import numpy as np"
   ]
  },
  {
   "cell_type": "code",
   "execution_count": 6,
   "metadata": {},
   "outputs": [],
   "source": [
    "# implemente la función del modelo M&P\n",
    "\n",
    "def neuronaMyP(E,I,u):\n",
    "    for i in I:\n",
    "        if i == 1:\n",
    "            return 0\n",
    "        \n",
    "    total = sum(E)\n",
    "    return 1 if total >= u else 0\n",
    "        "
   ]
  },
  {
   "cell_type": "code",
   "execution_count": 7,
   "metadata": {},
   "outputs": [
    {
     "data": {
      "text/plain": [
       "1"
      ]
     },
     "execution_count": 7,
     "metadata": {},
     "output_type": "execute_result"
    }
   ],
   "source": [
    "# suponga \n",
    "E = [1]\n",
    "I = [0]\n",
    "u = 1\n",
    "\n",
    "# calcule la salida de la neurona\n",
    "out = neuronaMyP(E,I,u)\n",
    "out\n",
    "\n"
   ]
  },
  {
   "cell_type": "markdown",
   "metadata": {},
   "source": [
    "Escriba sus conclusiones:\n",
    "\n"
   ]
  },
  {
   "cell_type": "markdown",
   "metadata": {},
   "source": []
  },
  {
   "cell_type": "markdown",
   "metadata": {},
   "source": [
    "## Conclusión:\n",
    "\n",
    "Definitivamente, el modelo propuesto por McCulloch y Pitts ha sido de gran relevancia, ya que nos introduce en un mundo de experimentación con la primera neurona artificial. Aunque no podemos interactuar directamente con la neurona más allá del umbral que determina su activación o desactivación, podemos observar la existencia de fórmulas matemáticas, como la suma de entradas excitatorias en la neurona, que pueden activarla. Además, es importante destacar la influencia significativa de una simple entrada inhibitoria que puede desactivar por completo la neurona.\r\n",
    "\r\n",
    "La presencia de esta función matemática nos deja claro que el funcionamiento de una neurona puede entenderse como una función, lo que abre la puerta a la aplicación de distintas funciones no solo para la suma de entradas, sino también para esperar resultados distintos. Incluso, la conexión de múltiples neuronas con diferentes umbrales puede proporcionar una visión más amplia de su comportamiento.\n"
   ]
  },
  {
   "cell_type": "code",
   "execution_count": null,
   "metadata": {},
   "outputs": [],
   "source": []
  }
 ],
 "metadata": {
  "kernelspec": {
   "display_name": "Python 3 (ipykernel)",
   "language": "python",
   "name": "python3"
  },
  "language_info": {
   "codemirror_mode": {
    "name": "ipython",
    "version": 3
   },
   "file_extension": ".py",
   "mimetype": "text/x-python",
   "name": "python",
   "nbconvert_exporter": "python",
   "pygments_lexer": "ipython3",
   "version": "3.11.7"
  }
 },
 "nbformat": 4,
 "nbformat_minor": 4
}
