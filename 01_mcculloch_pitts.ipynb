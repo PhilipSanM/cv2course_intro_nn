{
 "cells": [
  {
   "cell_type": "markdown",
   "metadata": {},
   "source": [
    "# Neurona McCulloch y Pitts\n",
    "\n",
    "El modelo de McCulloch y Pitts, concebido por Warren McCulloch, neurocientífico, y Walter Pitts, lógico matemático, en 1943 [1], representa uno de los fundamentos teóricos de las redes neuronales y la inteligencia artificial. Este modelo es una simplificación abstracta de las neuronas biológicas, propuesta para entender cómo podrían las neuronas del cerebro generar patrones complejos de pensamiento a partir de operaciones simples.\n",
    "\n",
    "[1] McCulloch, W. S., & Pitts, W. (1990). A logical calculus of the ideas immanent in nervous activity. Bulletin of mathematical biology, 52, 99-115."
   ]
  },
  {
   "cell_type": "markdown",
   "metadata": {},
   "source": [
    "Para formalizar el modelo de McCulloch y Pitts, representaremos una neurona con la letra $C$ y definiremos que la entrada de dicha neurona, denominada $input$, está determinada por una tupla $(E,I)$, donde $E$ es el conjunto de señales excitatorias e $I$ es el conjunto de señales inhibitorias. Asimismo, estableceremos como restricciones que tanto la entrada como la salida sean variables binarias, es decir, $input, output \\in {0,1}$. Adicionalmente, definiremos un umbral $u$ que la neurona utiliza para determinar los casos de excitación..\n",
    "\n",
    "Dado lo anterior la salida de $C$ se calcula usando las siguientes reglas:\n",
    "\n",
    "1. En caso de que alguna de las entradas inhibitorias esté activa la neurona no se exita, es decir,\n",
    "    \n",
    "    $C(E,I) = 0$ & \\texttt{if} & $\\exists \\iota_i=1; \\iota_i \\in I$\\\\\n",
    "\n",
    "2. La neurona se exita si la integral de sus entradas exitatorias es igual o superior al umbral, es decir,\n",
    "    \n",
    "    $C(E,I) = 1$ & \\texttt{if} & $\\sum \\iota_i \\geq u; \\iota_i \\in I$\\\\\n",
    "    \n",
    "\n",
    "3. En cualquier otro caso la neurona permanece sin exitación."
   ]
  },
  {
   "cell_type": "code",
   "execution_count": null,
   "metadata": {
    "vscode": {
     "languageId": "latex"
    }
   },
   "outputs": [],
   "source": []
  }
 ],
 "metadata": {
  "language_info": {
   "name": "python"
  }
 },
 "nbformat": 4,
 "nbformat_minor": 2
}
