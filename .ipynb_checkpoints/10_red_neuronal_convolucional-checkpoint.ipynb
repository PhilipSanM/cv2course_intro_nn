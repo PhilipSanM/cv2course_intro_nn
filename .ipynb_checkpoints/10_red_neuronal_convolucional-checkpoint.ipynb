{
 "cells": [
  {
   "cell_type": "markdown",
   "metadata": {},
   "source": [
    "# Redes neuronales convolucionales\n",
    "\n",
    "Una red neuronal convolucional (CNN por sus siglas en inglés, Convolutional Neural Network) es un tipo de red neuronal artificial especialmente diseñada para procesar datos que tienen una estructura de cuadrícula, como imágenes. Está inspirada en el funcionamiento del sistema visual biológico y es muy efectiva en tareas de reconocimiento visual y clasificación de imágenes.\n",
    "\n",
    "Lo que hace única a una CNN es su capacidad para detectar patrones locales en datos de entrada utilizando filtros convolucionales. Estos filtros son pequeñas matrices numéricas que se deslizan sobre la imagen de entrada para realizar operaciones de convolución. Esta operación de convolución permite a la red extraer características relevantes de la imagen, como bordes, texturas o formas.\n",
    "\n",
    "En este notebook implementaremos una capa convolucional usando python y numpy. Pondremos énfasis en la implementación de la convolución a partir de los hiper-parámetros de la capa convolucional. En particular usaremos la variante de correlación cruzada que se define de la siguiente forma:\n",
    "\n",
    "$$\n",
    "\tG[i,j] =  \\sum_{u=-k}^{k} \\sum_{v=-k}^{k} H[u,v] I[i+u,j+v]\n",
    "$$\n",
    "donde $I$ es la ntrada y $H$ el kernel.\n",
    "\n",
    "Visualmente tendríamos algo similar a la siguiente figura. Donde la imagen original esta en azul y la imagen resultante está en verde.\n",
    "\n",
    "<img src=\"files/same_padding_no_strides_00.png\">\n",
    "\n",
    "Como entrada usaremos una imagen popular en visión computacional, Lenna. Y, si todo sale bien, la salida deberá realizar la detección de bordes verticales.\n",
    "\n",
    "<img src=\"files/Lenna.png\">"
   ]
  },
  {
   "cell_type": "code",
   "execution_count": null,
   "metadata": {},
   "outputs": [],
   "source": [
    "# Paquetes\n",
    "from PIL import Image\n",
    "import numpy as np\n",
    "import matplotlib.pyplot as plt"
   ]
  },
  {
   "cell_type": "code",
   "execution_count": null,
   "metadata": {},
   "outputs": [],
   "source": [
    "# Ruta de la imagen\n",
    "ruta_imagen = \"files/Lenna.png\"\n",
    "\n",
    "# Abrir la imagen con PIL\n",
    "imagen_pil = Image.open(ruta_imagen)\n",
    "\n",
    "# Convertir la imagen a una matriz de NumPy\n",
    "imagen_numpy = np.array(imagen_pil)\n",
    "array_transposed = imagen_numpy.transpose((2, 0, 1))\n",
    "red_channel = array_transposed[0]\n",
    "\n",
    "# Mostrar información sobre la matriz de la imagen\n",
    "print(\"Dimensiones de la imagen:\", red_channel.shape)\n",
    "print(\"Tipo de datos de la matriz:\", red_channel.dtype)\n",
    "\n",
    "# Mostrar la matriz de la imagen (opcional)\n",
    "print(\"Matriz de la imagen:\")\n",
    "print(red_channel)\n",
    "\n",
    "plt.imshow(red_channel, cmap='gray')"
   ]
  },
  {
   "cell_type": "markdown",
   "metadata": {},
   "source": [
    "## Implementación del kernel\n",
    "\n",
    "El kernel ($H$) es una matriz cuadrada cuyas dimensiones son $(2k+1) \\times (2k+1)$, donde $k$ es un número entero positivo. Al utilizar el parámetro $k$ aseguramos que el kernel tenga tamaño impar. Los elementos de $k$ pueden tener valores arbitrarios de acuerdo al efecto que deseemos (los veremos más tarde). Por ahora, diremos que es deseable que la sumatoria de sus elementos sea igual a 1, si la sumatoria no es igual a 1 la imagen de salida será escalada. \n",
    "\n",
    "En este ejemplo, supondremos que $k=1$ y que los elementos de $H$ simulan un filtro detector de bordes verticales. "
   ]
  },
  {
   "cell_type": "code",
   "execution_count": null,
   "metadata": {},
   "outputs": [],
   "source": [
    "# Definir kernel (filtro)\n",
    "k = 1\n",
    "tamano = 2 * k + 1\n",
    "kernel = np.zeros((tamano, tamano), np.float32) / (tamano**2)\n",
    "kernel[0][0] = -1.0/3\n",
    "kernel[1][0] = -1.0/3\n",
    "kernel[2][0] = -1.0/3\n",
    "\n",
    "kernel[0][2] = 1.0/3\n",
    "kernel[1][2] = 1.0/3\n",
    "kernel[2][2] = 1.0/3\n",
    "\n",
    "# imprimir el filtro\n",
    "print(kernel)\n",
    "plt.imshow(kernel)\n",
    "plt.show()"
   ]
  },
  {
   "cell_type": "markdown",
   "metadata": {},
   "source": [
    "## Implementar correlación-cruzada\n",
    "\n",
    "Recordando que:\n",
    "\n",
    "$$\n",
    "\tG[i,j] =  \\sum_{u=-k}^{k} \\sum_{v=-k}^{k} H[u,v] I[i+u,j+v]\n",
    "$$\n",
    "donde $I$ es la imagen de entrada y $H$ el kernel.\n",
    "\n",
    "### Padding\n",
    "\n",
    "En este ejemplo usaremos padding p=0. Esto significa que no se agregan capas al rededor de la imagen de entrada.\n",
    "\n",
    "![](same_padding_no_strides_00.png)"
   ]
  },
  {
   "cell_type": "code",
   "execution_count": null,
   "metadata": {},
   "outputs": [],
   "source": [
    "# Primero implementaremos la función tal cual se definió para el elemento i,j de G\n",
    "def correlacionPixel(H, I, i, j):    \n",
    "    # Realiza la operación de correlación para el pixel i, j\n",
    "    # Valida que accedas a elementos válidos en I\n",
    "    m, n = I.shape\n",
    "    doskmas1, _ = H.shape\n",
    "    #TODO: Determina el valor de k y guardalo como tipo entero\n",
    "    k = None\n",
    "    sumatoria = 0\n",
    "\n",
    "    # TODO Implementa la convolución en el punto i,j, puedes hacerlo con ciclos anidados o con el producto punto de matrices.\n",
    "    resultado = None\n",
    "\n",
    "    return resultado.astype(int)\n",
    "\n",
    "\n",
    "# A continuación implementamos la correlación cruzada\n",
    "def correlacionCruzada(H, I):\n",
    "    doskmas1, _ = H.shape\n",
    "    #TODO: Determina el valor de k y guardalo como tipo entero\n",
    "    k = None\n",
    "    m, n = I.shape\n",
    "\n",
    "    #TODO: Construye una matriz G del mismo tamaño que I\n",
    "    G = None\n",
    "\n",
    "    # Realiza la correlación para cada elemento de I\n",
    "    for i in range(k, m-k):\n",
    "        for j in range(k, n-k):\n",
    "            G[i,j] = correlacionPixel(H,I,i,j)\n",
    "    return G"
   ]
  },
  {
   "cell_type": "code",
   "execution_count": null,
   "metadata": {},
   "outputs": [],
   "source": [
    "correlacionPixel(H = kernel, I = red_channel, i=1, j=1)"
   ]
  },
  {
   "cell_type": "markdown",
   "metadata": {},
   "source": [
    "## Prueba\n",
    "\n",
    "Ahora haremos la convolución sobre nuestra imagen de entrada. Además, aunque no es muy común en las redes, En algunos casos se puede aplicar una función de activación. Solo para propósitos de prueba, pasaremos el resultado por una función relu. Si todo va bien debes obtener al final una imagen como esta:\n",
    "\n",
    "<img src=\"files/ccnout.png\">"
   ]
  },
  {
   "cell_type": "code",
   "execution_count": null,
   "metadata": {},
   "outputs": [],
   "source": [
    "#aplicar la correlación cruzada\n",
    "resultado = correlacionCruzada(H = kernel, I = red_channel)\n",
    "relu_activated = np.maximum(0, resultado)\n",
    "\n",
    "plt.figure(figsize=(10, 10))\n",
    "\n",
    "plt.subplot(221)\n",
    "plt.imshow(red_channel, cmap = 'gray')\n",
    "plt.title('Original')\n",
    "\n",
    "plt.subplot(222)\n",
    "plt.imshow(resultado, cmap = 'gray')\n",
    "plt.title('Correlacion cruzada')\n",
    "\n",
    "plt.subplot(223)\n",
    "plt.imshow(relu_activated, cmap = 'gray')\n",
    "plt.title('ReLu aplicada')\n",
    "\n",
    "plt.show()"
   ]
  },
  {
   "cell_type": "markdown",
   "metadata": {},
   "source": [
    "Contesta las siguientes preguntas:\n",
    "\n",
    "- ¿Por que en la imagen relu_activated solo se ven algunos bordes verticales y no todos?\n",
    "- ¿Que padding debemos utilizar para evitar los contornos vacíos en la imagen de salida?\n",
    "\n",
    "Ve más alla, puedes incluir max pooling?"
   ]
  },
  {
   "cell_type": "code",
   "execution_count": null,
   "metadata": {},
   "outputs": [],
   "source": []
  },
  {
   "cell_type": "code",
   "execution_count": null,
   "metadata": {},
   "outputs": [],
   "source": []
  }
 ],
 "metadata": {
  "kernelspec": {
   "display_name": "nni",
   "language": "python",
   "name": "python3"
  },
  "language_info": {
   "codemirror_mode": {
    "name": "ipython",
    "version": 3
   },
   "file_extension": ".py",
   "mimetype": "text/x-python",
   "name": "python",
   "nbconvert_exporter": "python",
   "pygments_lexer": "ipython3",
   "version": "3.12.1"
  }
 },
 "nbformat": 4,
 "nbformat_minor": 2
}
