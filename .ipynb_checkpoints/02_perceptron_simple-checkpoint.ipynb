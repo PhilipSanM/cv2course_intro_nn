{
 "cells": [
  {
   "cell_type": "markdown",
   "metadata": {},
   "source": [
    "* **Felipe Sánchez Martínez** 6BM1\n"
   ]
  },
  {
   "cell_type": "markdown",
   "metadata": {},
   "source": [
    "# Perceptrón Simple\n",
    "\n",
    "En este notebook programaremos un perceptron simple utilizando numpy. El objetivo es que comprendamos el funcionamiento del perceptrón y que practiquemos la programación en Python. En la siguiente figura se encuentra una representación del perceptrón.\n",
    "\n",
    "<img src=\"files/simple_nn_notebook.png\">\n",
    "\n",
    "\n",
    "\n",
    "@juan1rving\n"
   ]
  },
  {
   "cell_type": "code",
   "execution_count": 1,
   "metadata": {},
   "outputs": [],
   "source": [
    "# Cargamos paquetes\n",
    "import numpy as np"
   ]
  },
  {
   "cell_type": "markdown",
   "metadata": {},
   "source": [
    "## Calcular producto punto\n",
    "\n",
    "El primer paso es calcular el logit, *h*, a partir del producto punto. La fórmula explícita es la siguiente:\n",
    "\n",
    "$$ h = W X +b $$"
   ]
  },
  {
   "cell_type": "code",
   "execution_count": 2,
   "metadata": {},
   "outputs": [],
   "source": [
    "# TODO: Implementar la función h sin utilizar funciones predefinidas de numpy como numpy.matmul()\n",
    "\n",
    "def function_h(X, W, b):\n",
    "    suma = 0\n",
    "    for i in range(len(X)):\n",
    "        suma += X[i]*W[i]\n",
    "    suma += b\n",
    "    return suma"
   ]
  },
  {
   "cell_type": "markdown",
   "metadata": {},
   "source": [
    "## Función de activación\n",
    "\n",
    "Para este ejemplo utilizaremos la función sigmoide como función de activación.\n",
    "\n",
    "$$ \tf(h) = \\begin{cases}\n",
    "\t\t0 & \\text{if } h < a \\\\\n",
    "\t\t1 & \\text{if } h \\geq a\n",
    "\\end{cases}  $$ "
   ]
  },
  {
   "cell_type": "code",
   "execution_count": 3,
   "metadata": {},
   "outputs": [],
   "source": [
    "# TODO: Completar el código\n",
    "def escalon(h):\n",
    "    return 1 if h >= 0 else 0"
   ]
  },
  {
   "cell_type": "markdown",
   "metadata": {},
   "source": [
    "## Probar inferencia\n",
    "\n",
    "Ahora definamos unos pesos y veamos el resultado de una pasada frontal (fordward pass)."
   ]
  },
  {
   "cell_type": "code",
   "execution_count": 4,
   "metadata": {},
   "outputs": [
    {
     "name": "stdout",
     "output_type": "stream",
     "text": [
      "Output:\n",
      "0\n"
     ]
    }
   ],
   "source": [
    "# Definamos unos pesos y sesgo\n",
    "inputs = np.array([0.7, -0.3])\n",
    "weights = np.array([0.1, 0.8])\n",
    "bias = -0.1\n",
    "\n",
    "# Pasada frontal\n",
    "h = function_h(inputs,weights,bias)\n",
    "# output = sigmoid(h)\n",
    "output = escalon(h)\n",
    "\n",
    "print('Output:')\n",
    "print(output)\n"
   ]
  },
  {
   "cell_type": "code",
   "execution_count": 5,
   "metadata": {},
   "outputs": [],
   "source": [
    "# TODO: Realizar el pase frontal y encuentra los pesos que concuerdan con la función OR"
   ]
  },
  {
   "cell_type": "code",
   "execution_count": 6,
   "metadata": {},
   "outputs": [
    {
     "name": "stdout",
     "output_type": "stream",
     "text": [
      "Funcion OR\n",
      "Pesos:  \n",
      " w1= 2  | w2= 3 \n",
      "\n",
      "\n",
      "----------------\n",
      "Input:  [0 0]\n",
      "Output:\n",
      "0\n",
      "----------------\n",
      "Input:  [0 1]\n",
      "Output:\n",
      "1\n",
      "----------------\n",
      "Input:  [1 0]\n",
      "Output:\n",
      "1\n",
      "----------------\n",
      "Input:  [1 1]\n",
      "Output:\n",
      "1\n"
     ]
    }
   ],
   "source": [
    "# Funcion OR:\n",
    "\n",
    "# Definamos unos pesos y sesgo\n",
    "inputs = np.array([[0, 0], [0, 1], [1, 0], [1, 1]])\n",
    "weights = np.array([2, 3])\n",
    "bias = -0.1\n",
    "print(\"Funcion OR\")\n",
    "print('Pesos: ', '\\n w1=', weights[0], ' | w2=', weights[1], '\\n\\n')\n",
    "for input in inputs:\n",
    "    # Pasada frontal\n",
    "    h = function_h(input,weights,bias)\n",
    "    # output = sigmoid(h)\n",
    "    output = escalon(h)\n",
    "    print('----------------')\n",
    "    print('Input: ', input)\n",
    "    print('Output:')\n",
    "    print(output)"
   ]
  },
  {
   "cell_type": "code",
   "execution_count": 7,
   "metadata": {},
   "outputs": [],
   "source": [
    "# TODO: Escribe tus conclusiones"
   ]
  },
  {
   "cell_type": "markdown",
   "metadata": {},
   "source": [
    "## Conclusión:\n",
    "\n",
    "Es cada vez más evidente que la representación de las neuronas como un modelo matemático, donde su salida depende de valores fijos de entrada, como los pesos y el bias, y de valores externos de entrada, al considerar la neurona como un modelo matemático, podemos apreciar que la activación y desactivación de una neurona está descrita por una función, y podemos modificar el comportamiento de esta función simplemente ajustando sus pesos y bias. Aunque aún no puede ajustarse por sí misma a un valor deseado, su funcionalidad es clara y prometedora para futuros desarrollos en el campo de la inteligencia artificial y las redes neuronales.\n",
    "\n",
    "Viendo su comportamiento como la union de varias funciones matematicas, y que son capaces de poder emular las compuertas basicas abre la puerta a un nuevo campo de investigacion en el estudio del comportamiento de la salida de varias neuronas conectadas y como podrian formar complej"
   ]
  },
  {
   "cell_type": "code",
   "execution_count": null,
   "metadata": {},
   "outputs": [],
   "source": []
  }
 ],
 "metadata": {
  "kernelspec": {
   "display_name": "Python 3 (ipykernel)",
   "language": "python",
   "name": "python3"
  },
  "language_info": {
   "codemirror_mode": {
    "name": "ipython",
    "version": 3
   },
   "file_extension": ".py",
   "mimetype": "text/x-python",
   "name": "python",
   "nbconvert_exporter": "python",
   "pygments_lexer": "ipython3",
   "version": "3.9.18"
  },
  "vscode": {
   "interpreter": {
    "hash": "cbad788490f55b163920bee5e9d5e0cba00db5905dc94f4bdbe0011e55bf465f"
   }
  },
  "widgets": {
   "state": {},
   "version": "1.1.2"
  }
 },
 "nbformat": 4,
 "nbformat_minor": 4
}
